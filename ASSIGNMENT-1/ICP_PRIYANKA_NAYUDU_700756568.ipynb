{
 "cells": [
  {
   "cell_type": "code",
   "execution_count": 4,
   "id": "8d1103f0",
   "metadata": {},
   "outputs": [
    {
     "name": "stdout",
     "output_type": "stream",
     "text": [
      "enter a string:python\n",
      "noht\n"
     ]
    }
   ],
   "source": [
    "'''1.Write a python program for the following:\n",
    "– Input the string “Python” as a list of characters from console, delete at least 2 characters, reverse the\n",
    "resultantstring and print it.'''\n",
    "\n",
    "import random\n",
    "string_Input=input(\"enter a string:\")\n",
    "list1=[]\n",
    "for i in range(0,len(string_Input)):\n",
    "        list1.append(string_Input[i])\n",
    "del list1[:2]\n",
    "random.shuffle(list1)\n",
    "output=''.join(list1)\n",
    "print(output)"
   ]
  },
  {
   "cell_type": "code",
   "execution_count": 5,
   "id": "f038496f",
   "metadata": {},
   "outputs": [
    {
     "name": "stdout",
     "output_type": "stream",
     "text": [
      "10\n",
      "20\n",
      "30 -10 200 10\n"
     ]
    }
   ],
   "source": [
    "\"'Take two numbers from user and perform at least 4 arithmetic operations on them.'\"\n",
    "\n",
    "input_A = int(input())\n",
    "input_B = int(input())\n",
    "print(input_A+input_B , input_A-input_B, input_A*input_B, input_A%input_B)"
   ]
  },
  {
   "cell_type": "code",
   "execution_count": 1,
   "id": "aedf3e41",
   "metadata": {},
   "outputs": [
    {
     "name": "stdout",
     "output_type": "stream",
     "text": [
      "enter the word: i love python\n",
      "i love pythons\n"
     ]
    }
   ],
   "source": [
    "\"'. Write a program that accepts a sentence and replace each occurrence of ‘python’ with ‘pythons'\"\n",
    "user_input = input(\"enter the word: \")\n",
    "modified_word = user_input.replace(\"python\", \"pythons\")\n",
    "print(modified_word)\n",
    "\n"
   ]
  },
  {
   "cell_type": "code",
   "execution_count": 2,
   "id": "519b8904",
   "metadata": {},
   "outputs": [
    {
     "name": "stdout",
     "output_type": "stream",
     "text": [
      "enter the value:89\n",
      "B\n"
     ]
    }
   ],
   "source": [
    "\"'Use the if statement conditions to write a program to print the letter grade based on an input class score. Use the grading scheme we are using in this class'\"\n",
    "\n",
    "grade=int(input(\"enter the value:\"))\n",
    "if(grade>=100):\n",
    "    print(\"invalid number\")\n",
    "elif(grade>=90):\n",
    "    print(\"A\")\n",
    "elif(grade>=80):\n",
    "    print(\"B\")\n",
    "elif(grade>=70):\n",
    "    print(\"C\")\n",
    "elif(grade>=60):\n",
    "    print(\"D\")\n",
    "else:\n",
    "    print(\"F\")"
   ]
  }
 ],
 "metadata": {
  "kernelspec": {
   "display_name": "Python 3 (ipykernel)",
   "language": "python",
   "name": "python3"
  },
  "language_info": {
   "codemirror_mode": {
    "name": "ipython",
    "version": 3
   },
   "file_extension": ".py",
   "mimetype": "text/x-python",
   "name": "python",
   "nbconvert_exporter": "python",
   "pygments_lexer": "ipython3",
   "version": "3.11.5"
  }
 },
 "nbformat": 4,
 "nbformat_minor": 5
}
